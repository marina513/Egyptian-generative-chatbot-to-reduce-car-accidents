{
  "nbformat": 4,
  "nbformat_minor": 2,
  "metadata": {
    "colab": {
      "name": "Generative_Egyptian_Chatbot(Batot_7obo)",
      "provenance": [],
      "collapsed_sections": []
    },
    "kernelspec": {
      "name": "python3",
      "display_name": "Python 3.7.0 64-bit"
    },
    "language_info": {
      "codemirror_mode": {
        "name": "ipython",
        "version": 3
      },
      "file_extension": ".py",
      "mimetype": "text/x-python",
      "name": "python",
      "nbconvert_exporter": "python",
      "pygments_lexer": "ipython3",
      "version": "3.7.0"
    },
    "accelerator": "GPU",
    "interpreter": {
      "hash": "b5f76eca79671a3361b8b74d29672f7c14ff6a413e249ec4f097395800fa667e"
    }
  },
  "cells": [
    {
      "cell_type": "code",
      "execution_count": null,
      "source": [],
      "outputs": [],
      "metadata": {}
    },
    {
      "cell_type": "markdown",
      "source": [
        "# Import\n",
        "\n",
        "\n"
      ],
      "metadata": {
        "id": "dz1vxMzjx6PJ"
      }
    },
    {
      "cell_type": "code",
      "execution_count": null,
      "source": [
        "#!pip install camel_tools\r\n",
        "from __future__ import absolute_import\r\n",
        "from __future__ import division\r\n",
        "from __future__ import print_function\r\n",
        "from __future__ import unicode_literals\r\n",
        "#from tashaphyne.stemming import ArabicLightStemmer\r\n",
        "from camel_tools.utils.normalize import normalize_alef_maksura_ar\r\n",
        "from camel_tools.utils.normalize import normalize_alef_ar\r\n",
        "from camel_tools.utils.normalize import normalize_teh_marbuta_ar\r\n",
        "from camel_tools.utils.dediac import dediac_ar\r\n"
      ],
      "outputs": [],
      "metadata": {
        "id": "k4yak43h89jN"
      }
    },
    {
      "cell_type": "code",
      "execution_count": null,
      "source": [
        "\r\n",
        "import torch\r\n",
        "from torch.jit import script, trace\r\n",
        "import torch.nn as nn\r\n",
        "from torch import optim\r\n",
        "import torch.nn.functional as F\r\n",
        "import csv\r\n",
        "import random\r\n",
        "import re\r\n",
        "import os\r\n",
        "import unicodedata\r\n",
        "import codecs\r\n",
        "from io import open\r\n",
        "import itertools\r\n",
        "import math\r\n",
        "import pandas as pd\r\n",
        "from tqdm import tqdm\r\n",
        "import numpy as np\r\n",
        "from sounds.speak_ import  speak,speak_ar\r\n",
        "from sounds.azure_speech import speech2txt\r\n",
        "\r\n",
        "#ArListem = ArabicLightStemmer()\r\n",
        "\r\n",
        "USE_CUDA = torch.cuda.is_available()\r\n",
        "device = torch.device(\"cuda\" if USE_CUDA else \"cpu\")"
      ],
      "outputs": [],
      "metadata": {
        "colab": {
          "base_uri": "https://localhost:8080/"
        },
        "id": "pAMU0XjYx6PK",
        "outputId": "43bfe5c8-b42f-4ba4-eb67-7a98493d363d"
      }
    },
    {
      "cell_type": "code",
      "execution_count": null,
      "source": [],
      "outputs": [],
      "metadata": {
        "id": "Ae6xbhg4KhD6"
      }
    },
    {
      "cell_type": "code",
      "execution_count": null,
      "source": [],
      "outputs": [],
      "metadata": {
        "id": "cbjbz4j7x6PM"
      }
    },
    {
      "cell_type": "markdown",
      "source": [
        "# Vocab"
      ],
      "metadata": {
        "id": "G3K-akm4-XTa"
      }
    },
    {
      "cell_type": "code",
      "execution_count": null,
      "source": [
        "# Default word tokens\r\n",
        "PAD_token = 0  # Used for padding short sentences\r\n",
        "SOS_token = 1  # Start-of-sentence token\r\n",
        "EOS_token = 2  # End-of-sentence token\r\n",
        "\r\n",
        "class Voc:\r\n",
        "    def __init__(self, name):\r\n",
        "        self.name = name\r\n",
        "        self.trimmed = False\r\n",
        "        self.word2index = {}\r\n",
        "        self.word2count = {}\r\n",
        "        self.index2word = {PAD_token: \"PAD\", SOS_token: \"SOS\", EOS_token: \"EOS\"}\r\n",
        "        self.num_words = 3  # Count SOS, EOS, PAD\r\n",
        "\r\n",
        "    def addSentence(self, sentence):\r\n",
        "        for word in sentence.split(' '):\r\n",
        "            self.addWord(word)\r\n",
        "\r\n",
        "    def addWord(self, word):\r\n",
        "        if word not in self.word2index:\r\n",
        "            self.word2index[word] = self.num_words\r\n",
        "            self.word2count[word] = 1\r\n",
        "            self.index2word[self.num_words] = word\r\n",
        "            self.num_words += 1\r\n",
        "        else:\r\n",
        "            self.word2count[word] += 1\r\n",
        "\r\n",
        "    # Remove words below a certain count threshold\r\n",
        "    def trim(self, min_count):\r\n",
        "        if self.trimmed:\r\n",
        "            return\r\n",
        "        self.trimmed = True\r\n",
        "\r\n",
        "        keep_words = []\r\n",
        "\r\n",
        "        for k, v in self.word2count.items():\r\n",
        "            if v >= min_count:\r\n",
        "                keep_words.append(k)\r\n",
        "\r\n",
        "        # Reinitialize dictionaries\r\n",
        "        self.word2index = {}\r\n",
        "        self.word2count = {}\r\n",
        "        self.index2word = {PAD_token: \"PAD\", SOS_token: \"SOS\", EOS_token: \"EOS\"}\r\n",
        "        self.num_words = 3 # Count default tokens\r\n",
        "\r\n",
        "        for word in keep_words:\r\n",
        "            self.addWord(word)"
      ],
      "outputs": [],
      "metadata": {
        "id": "lKGUzcotx6PN"
      }
    },
    {
      "cell_type": "code",
      "execution_count": null,
      "source": [],
      "outputs": [],
      "metadata": {
        "id": "rWPb9UdF-q2G"
      }
    },
    {
      "cell_type": "code",
      "execution_count": null,
      "source": [],
      "outputs": [],
      "metadata": {
        "id": "pz7bNtHM-mbW"
      }
    },
    {
      "cell_type": "code",
      "execution_count": null,
      "source": [],
      "outputs": [],
      "metadata": {
        "id": "zIj8hRXO-u3g"
      }
    },
    {
      "cell_type": "code",
      "execution_count": null,
      "source": [],
      "outputs": [],
      "metadata": {
        "id": "0_0OCSZy-qtR"
      }
    },
    {
      "cell_type": "markdown",
      "source": [
        "# data load"
      ],
      "metadata": {
        "id": "WZiGkf1D-rZz"
      }
    },
    {
      "cell_type": "markdown",
      "source": [
        "### clean"
      ],
      "metadata": {
        "id": "flciE8nn0ugE"
      }
    },
    {
      "cell_type": "code",
      "execution_count": null,
      "source": [
        "# Turn a Unicode string to plain ASCII\r\n",
        "def unicodeToAscii(s):\r\n",
        "    return ''.join(\r\n",
        "        c for c in unicodedata.normalize('NFD', s)\r\n",
        "        if unicodedata.category(c) != 'Mn'\r\n",
        "    )\r\n",
        "\r\n",
        "\r\n",
        "def normalizeString(s):\r\n",
        "    s = unicodeToAscii(s.lower().strip())\r\n",
        "    s = re.sub(r\"([.!?؟])\", r\" \\1\", s)\r\n",
        "    s = re.sub(r\"\\s+\", r\" \", s).strip().replace(\"?\",\"\").replace(\"؟\",\"\").replace(\"!\",\"\")\r\n",
        "    s = s.replace(\".\", \"\")\r\n",
        "    return s\r\n",
        "\r\n",
        "def normalize_egypt(txt):\r\n",
        "    # Normalize alef variants to 'ا'\r\n",
        "    txt = normalize_alef_ar(txt)\r\n",
        "    # Normalize alef maksura 'ى' to yeh 'ي'\r\n",
        "    txt = normalize_alef_maksura_ar(txt)\r\n",
        "    # Normalize teh marbuta 'ة' to heh 'ه'\r\n",
        "    txt = normalize_teh_marbuta_ar(txt)\r\n",
        "    txt = dediac_ar(txt)\r\n",
        "    #txt = txt.replace(\"و\", \" و \")\r\n",
        "    return txt"
      ],
      "outputs": [],
      "metadata": {
        "id": "TaKv89fP0v87"
      }
    },
    {
      "cell_type": "code",
      "execution_count": null,
      "source": [
        "def loadPrepareData(corpus, corpus_name, datafile):\r\n",
        "    # Read \r\n",
        "    pairs = sents_egypt_all\r\n",
        "    voc = Voc(corpus_name)\r\n",
        "    pairs = [pair for pair in pairs if len(pair[0].split(' ')) < MAX_LENGTH \r\n",
        "              and len(pair[1].split(' ')) < MAX_LENGTH]\r\n",
        "    \r\n",
        "    # word2index & index2word\r\n",
        "    for pair in pairs:\r\n",
        "        voc.addSentence(pair[0])\r\n",
        "        voc.addSentence(pair[1])\r\n",
        "    return voc, pairs\r\n"
      ],
      "outputs": [],
      "metadata": {
        "id": "DSJJiKeCx6PN"
      }
    },
    {
      "cell_type": "code",
      "execution_count": null,
      "source": [
        "normalize_egypt(\"هَل تَعلَمِي يَا مُنَى أَن دُكتُور الجَامِعَة طَلَب مِني أَن أَكتُب مَوضُوع عَن العَائِلَة العَرَبِيَة.\")"
      ],
      "outputs": [],
      "metadata": {
        "id": "aIpSjjX_9sbT",
        "colab": {
          "base_uri": "https://localhost:8080/",
          "height": 35
        },
        "outputId": "c696a13b-6678-4b5a-97e1-dff0633ebccd"
      }
    },
    {
      "cell_type": "code",
      "execution_count": null,
      "source": [],
      "outputs": [],
      "metadata": {
        "id": "nTRZcvlqcs54"
      }
    },
    {
      "cell_type": "code",
      "execution_count": null,
      "source": [],
      "outputs": [],
      "metadata": {
        "id": "Y2aC7sA4eyNi"
      }
    },
    {
      "cell_type": "markdown",
      "source": [
        "# Data"
      ],
      "metadata": {
        "id": "TBSOvwCkey2q"
      }
    },
    {
      "cell_type": "code",
      "execution_count": null,
      "source": [
        "A_egypt = open(\"C:/Users/AnyOneElse/GP_POP/Batot/data/response.txt\", encoding='utf-8'). read().strip().split('\\n')\r\n",
        "Q_egypt = open(\"C:/Users/AnyOneElse/GP_POP/Batot/data/Qs.txt\", encoding='utf-8'). read().strip().split('\\n')\r\n",
        "sents_egypt = []\r\n",
        "print(len(A_egypt))\r\n",
        "print(len(Q_egypt))\r\n",
        "\r\n",
        "for i in tqdm(range(len(A_egypt))):\r\n",
        "    s = []\r\n",
        "    s.append(Q_egypt[i])\r\n",
        "    s.append(A_egypt[i])\r\n",
        "    sents_egypt.append(s)\r\n",
        "#sents_egypt"
      ],
      "outputs": [],
      "metadata": {
        "colab": {
          "base_uri": "https://localhost:8080/"
        },
        "id": "fJoBUkBxeCVM",
        "outputId": "3cf4ac17-0548-4d61-c89d-8f61f39ffb79"
      }
    },
    {
      "cell_type": "code",
      "execution_count": null,
      "source": [
        "for i in tqdm(range( len(sents_egypt))):\r\n",
        "    q = sents_egypt[i][0]\r\n",
        "    a = sents_egypt[i][1]\r\n",
        "    ##########\r\n",
        "    sents_egypt[i][0] = normalize_egypt(q)\r\n",
        "    sents_egypt[i][1] = normalize_egypt(a)"
      ],
      "outputs": [],
      "metadata": {
        "colab": {
          "base_uri": "https://localhost:8080/"
        },
        "id": "kjZxBNDB6Vwv",
        "outputId": "c5b0d322-cc2b-4686-9852-90784c294cbd"
      }
    },
    {
      "cell_type": "code",
      "execution_count": null,
      "source": [
        "egypt_conv = open(\"C:/Users/AnyOneElse/GP_POP/Batot/data/Egypitan_dialogue.txt\", encoding='utf-8'). read().strip().split('\\n')\r\n",
        "print(len(egypt_conv))\r\n",
        "egypt_conv_pairs = []\r\n",
        "for i in tqdm(range(len(egypt_conv))):\r\n",
        "    if(i%2==0):\r\n",
        "      s = []\r\n",
        "      s.append( normalize_egypt(egypt_conv[i]))   # 0 2\r\n",
        "      s.append( normalize_egypt(egypt_conv[i+1])) # 1 3\r\n",
        "      egypt_conv_pairs.append(s)\r\n"
      ],
      "outputs": [],
      "metadata": {
        "colab": {
          "base_uri": "https://localhost:8080/"
        },
        "id": "fJoYWbf6eNy5",
        "outputId": "d323c2ce-315e-477a-a5bf-f17046e930ff"
      }
    },
    {
      "cell_type": "code",
      "execution_count": null,
      "source": [
        "print(len(egypt_conv_pairs))\r\n",
        "print(len(sents_egypt))\r\n",
        "sents_egypt_all = egypt_conv_pairs\r\n",
        "sents_egypt_all.extend( sents_egypt )\r\n",
        "print(len(sents_egypt_all))"
      ],
      "outputs": [],
      "metadata": {
        "colab": {
          "base_uri": "https://localhost:8080/"
        },
        "id": "NAjafYHmeUdw",
        "outputId": "931ea07c-1b03-4b6f-bd25-561277f88204"
      }
    },
    {
      "cell_type": "code",
      "execution_count": null,
      "source": [
        "MAX_LENGTH = 12\r\n",
        "voc, pairs = loadPrepareData(\"\", \"\", \"\")"
      ],
      "outputs": [],
      "metadata": {
        "id": "Ue7NIuR0p3oY"
      }
    },
    {
      "cell_type": "code",
      "execution_count": null,
      "source": [
        "len(voc.word2count)"
      ],
      "outputs": [],
      "metadata": {
        "id": "Y9xJYap7-ldl",
        "colab": {
          "base_uri": "https://localhost:8080/"
        },
        "outputId": "588eda2a-ba28-46a9-de6a-3fd2ee738e9d"
      }
    },
    {
      "cell_type": "code",
      "execution_count": null,
      "source": [
        "1558/2"
      ],
      "outputs": [],
      "metadata": {
        "id": "ghSo519lWvPz"
      }
    },
    {
      "cell_type": "code",
      "execution_count": null,
      "source": [],
      "outputs": [],
      "metadata": {
        "id": "8fmdH39EWvBK"
      }
    },
    {
      "cell_type": "markdown",
      "source": [
        "# trim"
      ],
      "metadata": {
        "id": "GphPNlaS-l3P"
      }
    },
    {
      "cell_type": "code",
      "execution_count": null,
      "source": [
        "MIN_COUNT = 1    # Minimum word count threshold for trimming\r\n",
        "\r\n",
        "def trimRareWords(voc, pairs, MIN_COUNT):\r\n",
        "    # Trim words used under the MIN_COUNT from the voc\r\n",
        "    # el olelen msh bet7to f new list w n3ml BOW mn aol bl kotar\r\n",
        "    # trim el VOCAB\r\n",
        "    voc.trim(MIN_COUNT)\r\n",
        "    \r\n",
        "    # Filter out pairs with trimmed words\r\n",
        "    # trim el PAIRS\r\n",
        "    keep_pairs = []\r\n",
        "    for pair in pairs:\r\n",
        "        input_sentence = pair[0]\r\n",
        "        output_sentence = pair[1]\r\n",
        "        keep_input = True\r\n",
        "        keep_output = True\r\n",
        "        # Check input sentence\r\n",
        "        for word in input_sentence.split(' '):\r\n",
        "            if word not in voc.word2index:\r\n",
        "                keep_input = False\r\n",
        "                break\r\n",
        "        # Check output sentence\r\n",
        "        for word in output_sentence.split(' '):\r\n",
        "            if word not in voc.word2index:\r\n",
        "                keep_output = False\r\n",
        "                break\r\n",
        "\r\n",
        "        # Only keep pairs that do not contain trimmed word(s) in their input or output sentence\r\n",
        "        if keep_input and keep_output:\r\n",
        "            keep_pairs.append(pair)\r\n",
        "\r\n",
        "    print(\"Trimmed from {} pairs to {}, {:.4f} of total\".format(len(pairs), len(keep_pairs), len(keep_pairs) / len(pairs)))\r\n",
        "    return keep_pairs\r\n",
        "\r\n",
        "\r\n",
        "# Trim voc and pairs\r\n",
        "pairs = trimRareWords(voc, pairs, MIN_COUNT)"
      ],
      "outputs": [],
      "metadata": {
        "colab": {
          "base_uri": "https://localhost:8080/"
        },
        "id": "kil2jWbMx6PO",
        "outputId": "3893b4e3-cfde-4d5c-a38c-cb2f0d9ea858"
      }
    },
    {
      "cell_type": "code",
      "execution_count": null,
      "source": [
        "len(pairs) "
      ],
      "outputs": [],
      "metadata": {
        "colab": {
          "base_uri": "https://localhost:8080/"
        },
        "id": "iNCJwlmxs03J",
        "outputId": "696f027f-3c91-4ae3-8fa4-9cf7481321c4"
      }
    },
    {
      "cell_type": "code",
      "execution_count": null,
      "source": [],
      "outputs": [],
      "metadata": {
        "id": "YHRM0sPGgqlT"
      }
    },
    {
      "cell_type": "code",
      "execution_count": null,
      "source": [],
      "outputs": [],
      "metadata": {
        "id": "5SRWpWOaiWPA"
      }
    },
    {
      "cell_type": "markdown",
      "source": [
        "# batches"
      ],
      "metadata": {
        "id": "bHM-m92BFUZn"
      }
    },
    {
      "cell_type": "code",
      "execution_count": null,
      "source": [
        "import gensim\r\n",
        "t_model = gensim.models.Word2Vec.load('C:/Users/AnyOneElse/GP_POP/Batot/data/models/full_grams_cbow_100_twitter.mdl')"
      ],
      "outputs": [],
      "metadata": {
        "id": "SQ3e5dfCVn4H"
      }
    },
    {
      "cell_type": "code",
      "execution_count": null,
      "source": [
        "def cos_sim(u,v):\r\n",
        "    numerator_ = u.dot(v)\r\n",
        "    denominator_= np.sqrt(np.sum(np.square(u))) * np.sqrt(np.sum(np.square(v)))\r\n",
        "    return numerator_/denominator_"
      ],
      "outputs": [],
      "metadata": {
        "id": "ffZOU9qZTtOl"
      }
    },
    {
      "cell_type": "code",
      "execution_count": null,
      "source": [
        "def compare(word):\r\n",
        "    sim_max = -99999\r\n",
        "    find_other = \"\"\r\n",
        "    for key in voc.word2index:\r\n",
        "        try:\r\n",
        "            c1 = t_model.wv[ key ]\r\n",
        "\r\n",
        "            c2 = t_model.wv[ word ]\r\n",
        "\r\n",
        "            sim = cos_sim(c1,c2)\r\n",
        "            if(sim > sim_max):\r\n",
        "                find_other = key\r\n",
        "                sim_max = sim\r\n",
        "\r\n",
        "        except: \r\n",
        "            pass\r\n",
        "    \r\n",
        "    return find_other"
      ],
      "outputs": [],
      "metadata": {
        "id": "btBhOI9fSQKp"
      }
    },
    {
      "cell_type": "code",
      "execution_count": null,
      "source": [
        "def indexesFromSentence(voc, sentence,print_):\r\n",
        "    indeces = []\r\n",
        "    new_sent = \"\"\r\n",
        "    for word in sentence.split(' '):\r\n",
        "        try:\r\n",
        "            indeces.append( voc.word2index[word] )\r\n",
        "            new_sent = new_sent + \" \" + word\r\n",
        "        except:\r\n",
        "            find_other = compare(word)\r\n",
        "            print(\"compare\")\r\n",
        "            indeces.append( voc.word2index[find_other] )\r\n",
        "            new_sent = new_sent + \" \" + find_other\r\n",
        "\r\n",
        "    indeces.append(EOS_token)\r\n",
        "    if(print_):\r\n",
        "        print(\"filtered sent: \" , new_sent)\r\n",
        "    return indeces\r\n",
        "\r\n",
        "###################################################################\r\n",
        "###################################################################\r\n",
        "def zeroPadding(l, fillvalue=PAD_token):\r\n",
        "    return list(itertools.zip_longest(*l, fillvalue=fillvalue))\r\n",
        "\r\n",
        "def binaryMatrix(l, value=PAD_token):\r\n",
        "    m = []\r\n",
        "    for i, seq in enumerate(l):\r\n",
        "        m.append([])\r\n",
        "        for token in seq:\r\n",
        "            if token == PAD_token:\r\n",
        "                m[i].append(0)\r\n",
        "            else:\r\n",
        "                m[i].append(1)\r\n",
        "    return m\r\n",
        "\r\n",
        "# Returns padded input sequence tensor and lengths\r\n",
        "# sent -> indices -> padding\r\n",
        "def inputVar(l, voc):\r\n",
        "    indexes_batch = [indexesFromSentence(voc, sentence, False) for sentence in l] #sents-> indices\r\n",
        "    lengths = torch.tensor([len(indexes) for indexes in indexes_batch]) # lens of indices\r\n",
        "   \r\n",
        "    padList = zeroPadding(indexes_batch) #esfar bm2as atol gomla\r\n",
        "    padVar = torch.LongTensor(padList)   # torch to padded indices\r\n",
        "    return padVar, lengths\r\n",
        "\r\n",
        "# Returns padded target sequence tensor, padding mask, and max target length\r\n",
        "def outputVar(l, voc):\r\n",
        "    indexes_batch = [indexesFromSentence(voc, sentence, False) for sentence in l] #\r\n",
        "    max_target_len = max([len(indexes) for indexes in indexes_batch])\r\n",
        "    padList = zeroPadding(indexes_batch)\r\n",
        "    mask = binaryMatrix(padList)\r\n",
        "    mask = torch.BoolTensor(mask)\r\n",
        "    padVar = torch.LongTensor(padList)\r\n",
        "    return padVar, mask, max_target_len\r\n",
        "\r\n",
        "# Returns all items for a given batch of pairs\r\n",
        "def batch2TrainData(voc, pair_batch):\r\n",
        "    \r\n",
        "    pair_batch.sort(key=lambda x: len(x[0].split(\" \")), reverse=True)\r\n",
        "    input_batch, output_batch = [], []\r\n",
        "    for pair in pair_batch:\r\n",
        "        input_batch.append(pair[0])\r\n",
        "        output_batch.append(pair[1])\r\n",
        "\r\n",
        "    inp, lengths = inputVar(input_batch, voc)\r\n",
        "    output, mask, max_target_len = outputVar(output_batch, voc)\r\n",
        "\r\n",
        "    return inp, lengths, output, mask, max_target_len\r\n",
        "\r\n",
        "\r\n",
        "# Example for validation\r\n",
        "small_batch_size = 1\r\n",
        "batches = batch2TrainData(voc, [random.choice(pairs) for _ in range(small_batch_size)])\r\n",
        "input_variable, lengths, target_variable, mask, max_target_len = batches\r\n"
      ],
      "outputs": [],
      "metadata": {
        "colab": {
          "base_uri": "https://localhost:8080/"
        },
        "id": "ygEmBGPuFXKr",
        "outputId": "e53044b7-85c2-4aa9-ee39-b8570af6a157"
      }
    },
    {
      "cell_type": "code",
      "execution_count": null,
      "source": [],
      "outputs": [],
      "metadata": {
        "id": "Q48kaagPf-zS"
      }
    },
    {
      "cell_type": "code",
      "execution_count": null,
      "source": [],
      "outputs": [],
      "metadata": {
        "id": "ji1C5_BBf-pV"
      }
    },
    {
      "cell_type": "markdown",
      "source": [
        "*------------------------------------------------------------\n",
        "*------------------------------------------------------------\n",
        "*------------------------------------------------------------\n",
        "*------------------------------------------------------------\n",
        "*------------------------------------------------------------\n",
        "*------------------------------------------------------------\n",
        "*------------------------------------------------------------\n",
        "*------------------------------------------------------------\n"
      ],
      "metadata": {
        "id": "EOcjKYCC9HD6"
      }
    },
    {
      "cell_type": "code",
      "execution_count": null,
      "source": [],
      "outputs": [],
      "metadata": {
        "id": "xsdl3VhS-n8S"
      }
    },
    {
      "cell_type": "code",
      "execution_count": null,
      "source": [],
      "outputs": [],
      "metadata": {
        "id": "OaiFdz0o5RsR"
      }
    },
    {
      "cell_type": "markdown",
      "source": [
        "# Define Models"
      ],
      "metadata": {
        "id": "EGiMLPsex6PP"
      }
    },
    {
      "cell_type": "markdown",
      "source": [
        "## Encoder\n"
      ],
      "metadata": {
        "id": "WOEwnmWrx6PQ"
      }
    },
    {
      "cell_type": "code",
      "execution_count": null,
      "source": [
        "class EncoderRNN(nn.Module):\r\n",
        "    def __init__(self, hidden_size, embedding, n_layers=1, dropout=0):\r\n",
        "        super(EncoderRNN, self).__init__()\r\n",
        "        self.n_layers = n_layers # 2\r\n",
        "        self.hidden_size = hidden_size # 500\r\n",
        "        self.embedding = embedding  # voc * 500\r\n",
        "                                          \r\n",
        "        self.gru = nn.GRU(hidden_size, hidden_size, n_layers,\r\n",
        "                          dropout=(0 if n_layers == 1 else dropout), bidirectional=True)\r\n",
        "\r\n",
        "    def forward(self, input_seq, input_lengths, hidden=None):\r\n",
        "        # input_seq -> sentences in batch & input_lengths -> their lens\r\n",
        "        #print(input_seq.shape) # 8*64 -> max_len * batches num\r\n",
        "        #print(input_lengths.shape) #64->batches\r\n",
        "        embedded = self.embedding(input_seq) # 8 , 64 , 500\r\n",
        "        # Pack padded batch of sequences for RNN module\r\n",
        "        packed = nn.utils.rnn.pack_padded_sequence(embedded, input_lengths)\r\n",
        "        \r\n",
        "        # Forward pass through GRU\r\n",
        "        outputs, hidden = self.gru(packed, hidden)\r\n",
        "        \r\n",
        "        # Unpack padding\r\n",
        "        outputs, _ = nn.utils.rnn.pad_packed_sequence(outputs)\r\n",
        "        \r\n",
        "        # Sum bidirectional GRU outputs\r\n",
        "        outputs = outputs[:, :, :self.hidden_size] + outputs[:, : ,self.hidden_size:]\r\n",
        "   \r\n",
        "        # Return output and final hidden state\r\n",
        "        return outputs, hidden"
      ],
      "outputs": [],
      "metadata": {
        "id": "-WacOg0vx6PQ"
      }
    },
    {
      "cell_type": "code",
      "execution_count": null,
      "source": [],
      "outputs": [],
      "metadata": {
        "id": "0Qpmbor-2lyx"
      }
    },
    {
      "cell_type": "code",
      "execution_count": null,
      "source": [],
      "outputs": [],
      "metadata": {
        "id": "C8BuuIeg2lse"
      }
    },
    {
      "cell_type": "markdown",
      "source": [
        "## Decoder\n"
      ],
      "metadata": {
        "id": "KsavTch9x6PQ"
      }
    },
    {
      "cell_type": "code",
      "execution_count": null,
      "source": [
        "# Luong attention layer\r\n",
        "class Attn(nn.Module):\r\n",
        "    def __init__(self, method, hidden_size):\r\n",
        "        super(Attn, self).__init__()\r\n",
        "        self.method = method\r\n",
        "        self.hidden_size = hidden_size\r\n",
        "        \r\n",
        "    def dot_score(self, hidden, encoder_output):\r\n",
        "        return torch.sum(hidden * encoder_output, dim=2)\r\n",
        "\r\n",
        "    def forward(self, hidden, encoder_outputs):\r\n",
        "        # Calculate the attention weights (energies) based on the given method\r\n",
        "        if self.method == 'dot':\r\n",
        "            attn_energies = self.dot_score(hidden, encoder_outputs)\r\n",
        "\r\n",
        "        # Transpose max_length and batch_size dimensions\r\n",
        "        attn_energies = attn_energies.t()\r\n",
        "\r\n",
        "        # Return the softmax normalized probability scores (with added dimension)\r\n",
        "        return F.softmax(attn_energies, dim=1).unsqueeze(1)"
      ],
      "outputs": [],
      "metadata": {
        "id": "ime2-Ivjx6PQ"
      }
    },
    {
      "cell_type": "code",
      "execution_count": null,
      "source": [],
      "outputs": [],
      "metadata": {
        "id": "Hscp4uUP2oFf"
      }
    },
    {
      "cell_type": "code",
      "execution_count": null,
      "source": [],
      "outputs": [],
      "metadata": {
        "id": "0oLTQhQR5TNh"
      }
    },
    {
      "cell_type": "code",
      "execution_count": null,
      "source": [],
      "outputs": [],
      "metadata": {
        "id": "y0LkTxhZ2n62"
      }
    },
    {
      "cell_type": "markdown",
      "source": [
        "## seq2seq "
      ],
      "metadata": {
        "id": "UfdRy7AE2omA"
      }
    },
    {
      "cell_type": "code",
      "execution_count": null,
      "source": [
        "class LuongAttnDecoderRNN(nn.Module):\r\n",
        "    def __init__(self, attn_model, embedding, hidden_size, output_size, n_layers=1, dropout=0.1):\r\n",
        "        super(LuongAttnDecoderRNN, self).__init__()\r\n",
        "\r\n",
        "        # Keep for reference\r\n",
        "        self.attn_model = attn_model\r\n",
        "        self.hidden_size = hidden_size #500\r\n",
        "        self.output_size = output_size\r\n",
        "        self.n_layers = n_layers\r\n",
        "        self.dropout = dropout\r\n",
        "\r\n",
        "        # Define layers\r\n",
        "        self.embedding = embedding\r\n",
        "        self.embedding_dropout = nn.Dropout(dropout)\r\n",
        "        self.gru = nn.GRU(hidden_size, hidden_size, n_layers, dropout=(0 if n_layers == 1 else dropout))\r\n",
        "        self.concat = nn.Linear(hidden_size * 2, hidden_size)\r\n",
        "        self.out = nn.Linear(hidden_size, output_size)\r\n",
        "\r\n",
        "        self.attn = Attn(attn_model, hidden_size)\r\n",
        "\r\n",
        "    def forward(self, input_step, last_hidden, encoder_outputs):\r\n",
        "        # Note: we run this one step (word) at a time\r\n",
        "        # Get embedding of current input word\r\n",
        "        embedded = self.embedding(input_step)\r\n",
        "        embedded = self.embedding_dropout(embedded)\r\n",
        "        # Forward through unidirectional GRU\r\n",
        "        rnn_output, hidden = self.gru(embedded, last_hidden)\r\n",
        "        # Calculate attention weights from the current GRU output\r\n",
        "        attn_weights = self.attn(rnn_output, encoder_outputs)\r\n",
        "        # Multiply attention weights to encoder outputs to get new \"weighted sum\" context vector\r\n",
        "        context = attn_weights.bmm(encoder_outputs.transpose(0, 1))\r\n",
        "        # Concatenate weighted context vector and GRU output using Luong eq. 5\r\n",
        "        rnn_output = rnn_output.squeeze(0)\r\n",
        "        context = context.squeeze(1)\r\n",
        "        concat_input = torch.cat((rnn_output, context), 1)\r\n",
        "        concat_output = torch.tanh(self.concat(concat_input))\r\n",
        "        # Predict next word using Luong eq. 6\r\n",
        "        output = self.out(concat_output)\r\n",
        "        output = F.softmax(output, dim=1)\r\n",
        "        # Return output and final hidden state\r\n",
        "        return output, hidden"
      ],
      "outputs": [],
      "metadata": {
        "id": "AXd7DgE9x6PR"
      }
    },
    {
      "cell_type": "code",
      "execution_count": null,
      "source": [],
      "outputs": [],
      "metadata": {
        "id": "kENmyh792vsw"
      }
    },
    {
      "cell_type": "code",
      "execution_count": null,
      "source": [],
      "outputs": [],
      "metadata": {
        "id": "7Cg73_tG2vkD"
      }
    },
    {
      "cell_type": "markdown",
      "source": [
        "# loss"
      ],
      "metadata": {
        "id": "kpQ3OSC72wC3"
      }
    },
    {
      "cell_type": "code",
      "execution_count": null,
      "source": [
        "def maskNLLLoss(inp, target, mask):\r\n",
        "    nTotal = mask.sum()\r\n",
        "    crossEntropy = -torch.log(torch.gather(inp, 1, target.view(-1, 1)).squeeze(1))\r\n",
        "    loss = crossEntropy.masked_select(mask).mean()\r\n",
        "    loss = loss.to(device)\r\n",
        "    return loss, nTotal.item()"
      ],
      "outputs": [],
      "metadata": {
        "id": "s0eCDG-0x6PR"
      }
    },
    {
      "cell_type": "code",
      "execution_count": null,
      "source": [],
      "outputs": [],
      "metadata": {
        "id": "np46rh672tWC"
      }
    },
    {
      "cell_type": "code",
      "execution_count": null,
      "source": [],
      "outputs": [],
      "metadata": {
        "id": "RJOFvXRf2tLF"
      }
    },
    {
      "cell_type": "code",
      "execution_count": null,
      "source": [],
      "outputs": [],
      "metadata": {
        "id": "vkKq9uMg2tB3"
      }
    },
    {
      "cell_type": "markdown",
      "source": [
        "# train"
      ],
      "metadata": {
        "id": "K62EaRaq2tuk"
      }
    },
    {
      "cell_type": "code",
      "execution_count": null,
      "source": [
        "def train(input_variable, lengths, target_variable, mask, max_target_len, encoder, decoder, \r\n",
        "          embedding,\r\n",
        "          encoder_optimizer, decoder_optimizer, batch_size, clip, max_length=MAX_LENGTH):\r\n",
        "\r\n",
        "    ###################################################################################\r\n",
        "    # init\r\n",
        "    # Zero gradients\r\n",
        "    encoder_optimizer.zero_grad()\r\n",
        "    decoder_optimizer.zero_grad()\r\n",
        "\r\n",
        "    # Set device options\r\n",
        "    input_variable = input_variable.to(device)\r\n",
        "    target_variable = target_variable.to(device)\r\n",
        "    mask = mask.to(device)\r\n",
        "    # Lengths for rnn packing should always be on the cpu\r\n",
        "    lengths = lengths.to(\"cpu\")\r\n",
        "\r\n",
        "    # Initialize variables\r\n",
        "    loss = 0\r\n",
        "    print_losses = []\r\n",
        "    n_totals = 0\r\n",
        "\r\n",
        "\r\n",
        "    ########################################################################\r\n",
        "    # encoder => Forward pass through encoder\r\n",
        "    encoder_outputs, encoder_hidden = encoder(input_variable, lengths)\r\n",
        "\r\n",
        "    \r\n",
        "    # Create initial decoder input (start with SOS tokens for each sentence)\r\n",
        "    decoder_input = torch.LongTensor([[SOS_token for _ in range(batch_size)]])\r\n",
        "    decoder_input = decoder_input.to(device)\r\n",
        "\r\n",
        "    # Set initial decoder hidden state to the encoder's final hidden state\r\n",
        "    decoder_hidden = encoder_hidden[:decoder.n_layers]\r\n",
        "\r\n",
        "    # Determine if we are using teacher forcing this iteration\r\n",
        "    use_teacher_forcing = True if random.random() < teacher_forcing_ratio else False\r\n",
        "\r\n",
        "    # Forward batch of sequences through decoder one time step at a time\r\n",
        "    if use_teacher_forcing:\r\n",
        "        for t in range(max_target_len):\r\n",
        "            decoder_output, decoder_hidden = decoder(\r\n",
        "                              decoder_input, decoder_hidden, encoder_outputs\r\n",
        "                          )\r\n",
        "            # Teacher forcing: next input is current target\r\n",
        "            decoder_input = target_variable[t].view(1, -1)\r\n",
        "            # Calculate and accumulate loss\r\n",
        "            mask_loss, nTotal = maskNLLLoss(decoder_output, target_variable[t], mask[t])\r\n",
        "            loss += mask_loss\r\n",
        "            print_losses.append(mask_loss.item() * nTotal)\r\n",
        "            n_totals += nTotal\r\n",
        "    else:\r\n",
        "        for t in range(max_target_len):\r\n",
        "            decoder_output, decoder_hidden = decoder(\r\n",
        "                decoder_input, decoder_hidden, encoder_outputs\r\n",
        "            )\r\n",
        "            # No teacher forcing: next input is decoder's own current output\r\n",
        "            _, topi = decoder_output.topk(1)\r\n",
        "            decoder_input = torch.LongTensor([[topi[i][0] for i in range(batch_size)]])\r\n",
        "            decoder_input = decoder_input.to(device)\r\n",
        "            # Calculate and accumulate loss\r\n",
        "            mask_loss, nTotal = maskNLLLoss(decoder_output, target_variable[t], mask[t])\r\n",
        "            loss += mask_loss\r\n",
        "            print_losses.append(mask_loss.item() * nTotal)\r\n",
        "            n_totals += nTotal\r\n",
        "\r\n",
        "    # Perform backpropatation\r\n",
        "    loss.backward()\r\n",
        "\r\n",
        "    # Clip gradients: gradients are modified in place\r\n",
        "    _ = nn.utils.clip_grad_norm_(encoder.parameters(), clip)\r\n",
        "    _ = nn.utils.clip_grad_norm_(decoder.parameters(), clip)\r\n",
        "\r\n",
        "    # Adjust model weights\r\n",
        "    encoder_optimizer.step()\r\n",
        "    decoder_optimizer.step()\r\n",
        "\r\n",
        "    return sum(print_losses) / n_totals"
      ],
      "outputs": [],
      "metadata": {
        "id": "TVF-yOMUx6PS"
      }
    },
    {
      "cell_type": "code",
      "execution_count": null,
      "source": [],
      "outputs": [],
      "metadata": {
        "id": "yeZwWWWp2zwo"
      }
    },
    {
      "cell_type": "code",
      "execution_count": null,
      "source": [],
      "outputs": [],
      "metadata": {
        "id": "1Prtd-ZE2znW"
      }
    },
    {
      "cell_type": "code",
      "execution_count": null,
      "source": [],
      "outputs": [],
      "metadata": {
        "id": "HrXxoFgJ21_c"
      }
    },
    {
      "cell_type": "markdown",
      "source": [
        "# iteration"
      ],
      "metadata": {
        "id": "8ok93Uwk20FA"
      }
    },
    {
      "cell_type": "code",
      "execution_count": null,
      "source": [
        "def trainIters(model_name, voc, pairs, encoder, \r\n",
        "               decoder, encoder_optimizer, decoder_optimizer,\r\n",
        "               embedding, encoder_n_layers, decoder_n_layers,\r\n",
        "               save_dir, n_iteration, batch_size, print_every,\r\n",
        "               save_every, clip, corpus_name, loadFilename):\r\n",
        "\r\n",
        "        # Load batches for each iteration\r\n",
        "        # for each iteraion batch\r\n",
        "    training_batches = [batch2TrainData(voc, [random.choice(pairs) for _ in range(batch_size)])\r\n",
        "                      for _ in range(n_iteration)] \r\n",
        "\r\n",
        "    # Initializations\r\n",
        "    print('Initializing ...')\r\n",
        "    start_iteration = 1\r\n",
        "    print_loss = 0\r\n",
        "    if loadFilename:\r\n",
        "        start_iteration = checkpoint['iteration'] + 1\r\n",
        "        print(\"start at : \" , start_iteration)\r\n",
        "\r\n",
        "    # Training loop\r\n",
        "    print(\"Training...\")\r\n",
        "    for iteration in range(start_iteration, n_iteration + 1):\r\n",
        "        training_batch = training_batches[iteration - 1]\r\n",
        "        # Extract fields from batch\r\n",
        "        input_variable, lengths, target_variable, mask, max_target_len = training_batch\r\n",
        "\r\n",
        "        # Run a training iteration with batch\r\n",
        "        loss = train(input_variable, lengths, target_variable, mask, max_target_len, encoder,\r\n",
        "                     decoder, embedding, encoder_optimizer, decoder_optimizer, batch_size, clip)\r\n",
        "        print_loss += loss\r\n",
        "\r\n",
        "        # Print progress\r\n",
        "        if iteration % print_every == 0:\r\n",
        "            print_loss_avg = print_loss / print_every\r\n",
        "            print(\"Iteration: {}; Percent complete: {:.1f}%; Average loss: {:.4f}\".format(iteration, iteration / n_iteration * 100, print_loss_avg))\r\n",
        "            print_loss = 0\r\n",
        "\r\n",
        "        # Save checkpoint\r\n",
        "        if (iteration % save_every == 0):\r\n",
        "            directory = os.path.join(save_dir, model_name, corpus_name, '{}-{}_{}'.format(encoder_n_layers, decoder_n_layers, hidden_size))\r\n",
        "            print(\"save to:\", directory)\r\n",
        "            if not os.path.exists(directory):\r\n",
        "                os.makedirs(directory)\r\n",
        "            torch.save({\r\n",
        "                'iteration': iteration,\r\n",
        "                'en': encoder.state_dict(),\r\n",
        "                'de': decoder.state_dict(),\r\n",
        "                'en_opt': encoder_optimizer.state_dict(),\r\n",
        "                'de_opt': decoder_optimizer.state_dict(),\r\n",
        "                'loss': loss,\r\n",
        "                'voc_dict': voc.__dict__,\r\n",
        "                'embedding': embedding.state_dict()\r\n",
        "            }, os.path.join(directory, '{}_{}.tar'.format(iteration, 'checkpoint')))"
      ],
      "outputs": [],
      "metadata": {
        "id": "o492Qh_3x6PS"
      }
    },
    {
      "cell_type": "code",
      "execution_count": null,
      "source": [],
      "outputs": [],
      "metadata": {
        "id": "qJN2BSHE7yUF"
      }
    },
    {
      "cell_type": "code",
      "execution_count": null,
      "source": [],
      "outputs": [],
      "metadata": {
        "id": "4lfAB_-N7yK6"
      }
    },
    {
      "cell_type": "markdown",
      "source": [
        "------------------------------------------------------------------"
      ],
      "metadata": {
        "id": "UedwsxPDDoBJ"
      }
    },
    {
      "cell_type": "markdown",
      "source": [
        "# init"
      ],
      "metadata": {
        "id": "HtU0ere47ynt"
      }
    },
    {
      "cell_type": "code",
      "execution_count": null,
      "source": [
        "# Configure models\r\n",
        "model_name = 'cb_model'\r\n",
        "attn_model = 'dot'\r\n",
        "hidden_size = 500\r\n",
        "encoder_n_layers = 1\r\n",
        "decoder_n_layers = 1\r\n",
        "dropout = 0.1\r\n",
        "batch_size = 1\r\n",
        "\r\n",
        "save_dir = os.path.join(\"data\", \"save\")\r\n",
        "\r\n",
        "# Set checkpoint to load from; set to None if starting from scratch\r\n",
        "loadFilename = None\r\n",
        "checkpoint_iter = 1000\r\n",
        "loadFilename = \"C:/Users/AnyOneElse/GP_POP/Batot/data/models/save/cb_model/corpus_name/1-1_500/1499_checkpoint.tar\"\r\n",
        "\r\n",
        "# Load model if a loadFilename is provided\r\n",
        "if loadFilename:\r\n",
        "    # If loading on same machine the model was trained on\r\n",
        "    #checkpoint = torch.load(loadFilename)\r\n",
        "    # If loading a model trained on GPU to CPU\r\n",
        "    checkpoint = torch.load(loadFilename, map_location=torch.device('cpu'))\r\n",
        "    encoder_sd = checkpoint['en']\r\n",
        "    decoder_sd = checkpoint['de']\r\n",
        "    encoder_optimizer_sd = checkpoint['en_opt']\r\n",
        "    decoder_optimizer_sd = checkpoint['de_opt']\r\n",
        "    embedding_sd = checkpoint['embedding']\r\n",
        "    #voc.__dict__ = checkpoint['voc_dict']\r\n",
        "\r\n",
        "\r\n",
        "print('Building encoder and decoder ...')\r\n",
        "# Initialize word embeddings\r\n",
        "embedding = nn.Embedding(voc.num_words, hidden_size)\r\n",
        "#if loadFilename:\r\n",
        "#    embedding.load_state_dict(embedding_sd)\r\n",
        "# Initialize encoder & decoder models\r\n",
        "encoder = EncoderRNN(hidden_size, embedding, encoder_n_layers, dropout)\r\n",
        "decoder = LuongAttnDecoderRNN(attn_model, embedding, hidden_size, voc.num_words, decoder_n_layers, dropout)\r\n",
        "if loadFilename:\r\n",
        "    encoder.load_state_dict(encoder_sd)\r\n",
        "    decoder.load_state_dict(decoder_sd)\r\n",
        "# Use appropriate device\r\n",
        "encoder = encoder.to(device)\r\n",
        "decoder = decoder.to(device)\r\n",
        "print('Models built and ready to go!')"
      ],
      "outputs": [],
      "metadata": {
        "colab": {
          "base_uri": "https://localhost:8080/"
        },
        "id": "7L7NrHY770C8",
        "outputId": "e8184d7d-502c-42d1-a4cc-5d4969895f41"
      }
    },
    {
      "cell_type": "code",
      "execution_count": null,
      "source": [],
      "outputs": [],
      "metadata": {
        "id": "zZ6wKD4i718J"
      }
    },
    {
      "cell_type": "markdown",
      "source": [
        "# train"
      ],
      "metadata": {
        "id": "sqM92jCo72Rw"
      }
    },
    {
      "cell_type": "code",
      "execution_count": null,
      "source": [
        "# Configure training/optimization\r\n",
        "#%%time\r\n",
        "clip = 50.0\r\n",
        "teacher_forcing_ratio = 1.0\r\n",
        "learning_rate = 0.0001\r\n",
        "decoder_learning_ratio = 5.0\r\n",
        "n_iteration = 1500\r\n",
        "print_every = 100\r\n",
        "save_every = n_iteration-1\r\n",
        "\r\n",
        "# Ensure dropout layers are in train mode\r\n",
        "encoder.train()\r\n",
        "decoder.train()\r\n",
        "\r\n",
        "# Initialize optimizers\r\n",
        "print('Building optimizers ...')\r\n",
        "encoder_optimizer = optim.Adam(encoder.parameters(), lr=learning_rate)\r\n",
        "decoder_optimizer = optim.Adam(decoder.parameters(), lr=learning_rate * decoder_learning_ratio)\r\n",
        "if loadFilename:\r\n",
        "    encoder_optimizer.load_state_dict(encoder_optimizer_sd)\r\n",
        "    decoder_optimizer.load_state_dict(decoder_optimizer_sd)\r\n",
        "\r\n",
        "\r\n",
        "print(\"Starting Training!\")\r\n",
        "trainIters(model_name, voc, pairs, encoder, decoder, encoder_optimizer, decoder_optimizer,\r\n",
        "           embedding, encoder_n_layers, decoder_n_layers, save_dir, n_iteration, batch_size,\r\n",
        "           print_every, save_every, clip, \"corpus_name\", loadFilename)"
      ],
      "outputs": [],
      "metadata": {
        "colab": {
          "base_uri": "https://localhost:8080/"
        },
        "id": "PSlIkW1326Gf",
        "outputId": "6d048613-4fcd-4632-f128-47642ed31999"
      }
    },
    {
      "cell_type": "code",
      "execution_count": null,
      "source": [
        "import numpy as np"
      ],
      "outputs": [],
      "metadata": {
        "id": "rDyvT6IhBxeW"
      }
    },
    {
      "cell_type": "code",
      "execution_count": null,
      "source": [],
      "outputs": [],
      "metadata": {
        "id": "dJPNVQbB26hn"
      }
    },
    {
      "cell_type": "code",
      "execution_count": null,
      "source": [],
      "outputs": [],
      "metadata": {
        "id": "JG4nbVjG26Q3"
      }
    },
    {
      "cell_type": "markdown",
      "source": [
        "# test"
      ],
      "metadata": {
        "id": "14bMQgGIx6PS"
      }
    },
    {
      "cell_type": "code",
      "execution_count": null,
      "source": [
        "class GreedySearchDecoder(nn.Module):\r\n",
        "    def __init__(self, encoder, decoder):\r\n",
        "        super(GreedySearchDecoder, self).__init__()\r\n",
        "        self.encoder = encoder\r\n",
        "        self.decoder = decoder\r\n",
        "\r\n",
        "    def forward(self, input_seq, input_length, max_length):\r\n",
        "        # Forward input through encoder model\r\n",
        "        encoder_outputs, encoder_hidden = self.encoder(input_seq, input_length)\r\n",
        "        # Prepare encoder's final hidden layer to be first hidden input to the decoder\r\n",
        "        decoder_hidden = encoder_hidden[:decoder.n_layers]\r\n",
        "        # Initialize decoder input with SOS_token\r\n",
        "        decoder_input = torch.ones(1, 1, device=device, dtype=torch.long) * SOS_token\r\n",
        "        # Initialize tensors to append decoded words to\r\n",
        "        all_tokens = torch.zeros([0], device=device, dtype=torch.long)\r\n",
        "        all_scores = torch.zeros([0], device=device)\r\n",
        "        # Iteratively decode one word token at a time\r\n",
        "        for _ in range(max_length):\r\n",
        "            # Forward pass through decoder\r\n",
        "            decoder_output, decoder_hidden = self.decoder(decoder_input, decoder_hidden, encoder_outputs)\r\n",
        "            # Obtain most likely word token and its softmax score\r\n",
        "            decoder_scores, decoder_input = torch.max(decoder_output, dim=1)\r\n",
        "            # Record token and score\r\n",
        "            all_tokens = torch.cat((all_tokens, decoder_input), dim=0)\r\n",
        "            all_scores = torch.cat((all_scores, decoder_scores), dim=0)\r\n",
        "            # Prepare current token to be next decoder input (add a dimension)\r\n",
        "            decoder_input = torch.unsqueeze(decoder_input, 0)\r\n",
        "        # Return collections of word tokens and scores\r\n",
        "        return all_tokens, all_scores"
      ],
      "outputs": [],
      "metadata": {
        "id": "gqcEnlKFx6PT"
      }
    },
    {
      "cell_type": "code",
      "execution_count": null,
      "source": [
        "from mtranslate import translate\r\n",
        "from emotions import all_emotions\r\n",
        "from sleep_check import sleep_read\r\n",
        "import tensorflow as tf\r\n",
        "import tensorflow_hub as hub\r\n",
        "import tensorflow as tf\r\n",
        "keras = tf.keras\r\n",
        "#\r\n",
        "model_path = 'C:/Users/AnyOneElse/GP_POP/Batot/data/models/USE_binary_model.h5'\r\n",
        "binary_model = tf.keras.models.load_model(model_path , custom_objects={'KerasLayer': hub.KerasLayer})\r\n"
      ],
      "outputs": [],
      "metadata": {
        "id": "orekncwn280S"
      }
    },
    {
      "cell_type": "code",
      "execution_count": 55,
      "source": [
        "from mtranslate import translate\r\n",
        "MAX_LENGTH = 12\r\n",
        "\r\n",
        "def evaluate(encoder, decoder, searcher, voc, sentence, max_length=MAX_LENGTH):\r\n",
        "    ### Format input sentence as a batch\r\n",
        "    # words -> indexes\r\n",
        "    indexes_batch = [indexesFromSentence(voc, sentence, True)]\r\n",
        "    # Create lengths tensor\r\n",
        "    lengths = torch.tensor([len(indexes) for indexes in indexes_batch])\r\n",
        "    # Transpose dimensions of batch to match models' expectations\r\n",
        "    input_batch = torch.LongTensor(indexes_batch).transpose(0, 1)\r\n",
        "    # Use appropriate device\r\n",
        "    input_batch = input_batch.to(device)\r\n",
        "    lengths = lengths.to(\"cpu\")\r\n",
        "    # Decode sentence with searcher\r\n",
        "    tokens, scores = searcher(input_batch, lengths, max_length)\r\n",
        "    # indexes -> words\r\n",
        "    decoded_words = [voc.index2word[token.item()] for token in tokens]\r\n",
        "    return decoded_words\r\n",
        "\r\n",
        "\r\n",
        "############################################################\r\n",
        "############################################################\r\n",
        "############################################################\r\n",
        "def evaluateInput():\r\n",
        "    old_mood = \"\"\r\n",
        "    iter = 0\r\n",
        "    five_sent_list = []\r\n",
        "    while(1):\r\n",
        "        \r\n",
        "        input_sentence = speech2txt().replace(\".\" , \" \")\r\n",
        "        #input_sentence = input().replace(\".\" , \" \")\r\n",
        "        if(input_sentence != '0'):\r\n",
        "            five_sent_list.append(input_sentence)\r\n",
        "\r\n",
        "        #**********************************************\r\n",
        "        # binary model  \r\n",
        "        if(len(five_sent_list) >= 3):\r\n",
        "            print(\"***************check mode *5555555555555\")\r\n",
        "            sent = \"\"\r\n",
        "            for i in range(len(five_sent_list)):\r\n",
        "                sent = sent + \" \" + five_sent_list[i].replace(\"\\n\",\"\")\r\n",
        "\r\n",
        "            all_sent_eng = translate(sent)\r\n",
        "            print(\"five sentences:  \" ,  all_sent_eng)\r\n",
        "            result = binary_model.predict([all_sent_eng])[0][0]\r\n",
        "            five_sent_list = []\r\n",
        "            print(result)\r\n",
        "            if(result > 0.5):\r\n",
        "                speak_ar(\"أَنْتَ اتحسنت هتركك تُرَكِّزُ فى السواقة \")\r\n",
        "                file_batot = open(\"C:/Users/AnyOneElse/GP_POP/Batot/data/file_chat_user_history.txt\", \"a\" , encoding='utf-8')\r\n",
        "                file_batot.write(\"باى يا حبيب هارتى هيوحشنى الكلام معاك\" + \"\\n\")\r\n",
        "                file_batot.write(\"end\" + \"\\n\")\r\n",
        "                file_batot.close()\r\n",
        "\r\n",
        "                break\r\n",
        "        #**********************************************\r\n",
        "        file = open(\"C:/Users/AnyOneElse/GP_POP/Batot/data/file_chat_user_history.txt\", \"a\" , encoding='utf-8')\r\n",
        "        file.write(input_sentence + \"\\n\")\r\n",
        "        file.close()\r\n",
        "   \r\n",
        "        if(input_sentence == '0'):\r\n",
        "            speak_ar(\"مش سامع\")\r\n",
        "            \r\n",
        "        else:\r\n",
        "            input_sentence = normalize_egypt(  input_sentence  ).replace(\"اوي\", \"\").replace(\"جدا\", \"\").replace(\"خالص\", \"\").replace(\"انا\", \"\").replace(\"انتا\", \"\")\r\n",
        "            # Check if it is quit case\r\n",
        "            print(\"translated:  \", translate(input_sentence))\r\n",
        "            if ( (translate(input_sentence).find('bye') != -1) or (translate(input_sentence).find('باي') != -1)) or (translate(input_sentence).find('WL') != -1) :\r\n",
        "                \r\n",
        "                file_end = open(\"C:/Users/AnyOneElse/GP_POP/Batot/data/file_chat_user_history.txt\", \"a\" )\r\n",
        "                file_end.write(\"end\"+\"\\n\")\r\n",
        "                file_end.close()\r\n",
        "            \r\n",
        "                file_batot = open(\"C:/Users/AnyOneElse/GP_POP/Batot/data/file_chat_batot_history.txt\", \"a\" , encoding='utf-8')\r\n",
        "                file_batot.write(\"باى يا حبيب هارتى هيوحشنى الكلام معاك\" + \"\\n\")\r\n",
        "                file_batot.write(\"end\" + \"\\n\")\r\n",
        "                file_batot.close()\r\n",
        "                \r\n",
        "                break\r\n",
        "\r\n",
        "            input_sentence = normalizeString(input_sentence)\r\n",
        "            print(\"norm input: \" , input_sentence)\r\n",
        "\r\n",
        "            # Evaluate sentence\r\n",
        "            output_words = evaluate(encoder, decoder, searcher, voc, input_sentence)\r\n",
        "            # Format and print response sentence\r\n",
        "            output_words[:] = [x for x in output_words if not (x == 'EOS' or x == 'PAD')]\r\n",
        "\r\n",
        "            print(\"***********************************************************\")\r\n",
        "            print(\"Cam_text Mood\")\r\n",
        "            file = open(\"C:/Users/AnyOneElse/GP_POP/cam_emotion_detect/mix_mood.txt\", \"r\")\r\n",
        "            cam_moods = file.readlines()\r\n",
        "            file.close()\r\n",
        "            mood_now = cam_moods[len(cam_moods) - 1 ].replace(\"\\n\", \"\")\r\n",
        "            if((mood_now != old_mood) and (iter >= 1 )):\r\n",
        "                print(mood_now)\r\n",
        "                old_mood = mood_now\r\n",
        "                all_emotions(mood_now)\r\n",
        "                iter = 0\r\n",
        "            else:\r\n",
        "                iter = iter + 1\r\n",
        "            \r\n",
        "            print(\"iter num: \",iter)\r\n",
        "                \r\n",
        "            print(\"***********************************************************\")\r\n",
        "            print('Bottttttttttttttttttttttttt  :  ', ' '.join(output_words))\r\n",
        "            speak_ar(' '.join(output_words))\r\n",
        "            \r\n",
        "            file_batot = open(\"C:/Users/AnyOneElse/GP_POP/Batot/data/file_chat_batot_history.txt\", \"a\" , encoding='utf-8')\r\n",
        "            file_batot.write(' '.join(output_words) + \"\\n\")\r\n",
        "            file_batot.close()\r\n",
        "            "
      ],
      "outputs": [],
      "metadata": {
        "id": "__E_Ym7_x6PT"
      }
    },
    {
      "cell_type": "code",
      "execution_count": 56,
      "source": [
        "# Set dropout layers to eval mode\r\n",
        "encoder.eval()\r\n",
        "decoder.eval()\r\n",
        "# Initialize search module\r\n",
        "searcher = GreedySearchDecoder(encoder, decoder)\r\n",
        "\r\n",
        "# Begin chatting (uncomment and run the following line to begin)\r\n",
        "#evaluateInput()"
      ],
      "outputs": [
        {
          "output_type": "stream",
          "name": "stdout",
          "text": [
            "Say something...please\n",
            "Recognized: أنا بحبك\n",
            "translated:   with ur love\n",
            "norm input:  بحبك\n",
            "filtered sent:   بحبك\n",
            "***********************************************************\n",
            "Cam_text Mood\n",
            "iter num:  1\n",
            "***********************************************************\n",
            "Bottttttttttttttttttttttttt  :   و انا كمان\n",
            "Say something...please\n",
            "Recognized: أنا بحب كل الناس.\n",
            "translated:   I love all people\n",
            "norm input:  بحب كل الناس\n",
            "filtered sent:   بحب كل الناس\n",
            "***********************************************************\n",
            "Cam_text Mood\n",
            "hide\n",
            "MOOOOOOOOOOOOOOOOOOOOOOOODDDDDDDDDDDD\n",
            "hide\n",
            "iter num:  0\n",
            "***********************************************************\n",
            "Bottttttttttttttttttttttttt  :   عشان انت روحك حلوه\n",
            "Say something...please\n",
            "Recognized: أنا بحبك\n",
            "***************check mode *5555555555555\n",
            "five sentences:   I love you I love all people I love you\n",
            "0.56943405\n"
          ]
        }
      ],
      "metadata": {
        "colab": {
          "base_uri": "https://localhost:8080/"
        },
        "id": "KNgz9I1Lx6PU",
        "outputId": "aa6eac21-1a0a-4bc0-f4e3-5bb099e4d38d"
      }
    },
    {
      "cell_type": "code",
      "execution_count": null,
      "source": [],
      "outputs": [],
      "metadata": {}
    },
    {
      "cell_type": "code",
      "execution_count": null,
      "source": [],
      "outputs": [],
      "metadata": {}
    },
    {
      "cell_type": "code",
      "execution_count": null,
      "source": [],
      "outputs": [],
      "metadata": {}
    },
    {
      "cell_type": "code",
      "execution_count": null,
      "source": [],
      "outputs": [],
      "metadata": {}
    }
  ]
}